{
  "cells": [
    {
      "cell_type": "markdown",
      "metadata": {},
      "source": [
        "| | | |\n",
        "|-|:--:|-|\n",
        "|![IUT](/mnt/d/IUT/IUT_7th_Sem/EEE_4710/github/Hands-on-Machine-Learning-with-Python/My_Assignments/iut_logo/IUT_logo.png)|$$\\textbf{\\Large Islamic University of Technology (IUT)}\\newline\\textbf{\\textit{\\large Organization of Islamic Cooperation (OIC)} }\\newline\\text{ \\normalsize Department of Electrical and Electronic Engineering }$$|![OIC](/mnt/d/IUT/IUT_7th_Sem/EEE_4710/github/Hands-on-Machine-Learning-with-Python/My_Assignments/iut_logo/OIC_logo.png)|\n",
        "| | | |"
      ]
    },
    {
      "cell_type": "markdown",
      "metadata": {
        "id": "otNmzCJp5Myx"
      },
      "source": [
        "| **ID**             | **200021118**                                                  |\n",
        "| ------------------ | -------------------------------------------------------------- |\n",
        "| **Name**           | **Omar Faruk**                                                 |\n",
        "| **Course ID**      | **EEE 4703**                                                   |\n",
        "| **Course Name**    | **Communication Engineering II**                               |\n",
        "| **Assignment No.** | **01**                                                         |"
      ]
    }
  ],
  "metadata": {
    "colab": {
      "provenance": [],
      "toc_visible": true
    },
    "kernelspec": {
      "display_name": ".venv",
      "language": "python",
      "name": "python3"
    },
    "language_info": {
      "codemirror_mode": {
        "name": "ipython",
        "version": 3
      },
      "file_extension": ".py",
      "mimetype": "text/x-python",
      "name": "python",
      "nbconvert_exporter": "python",
      "pygments_lexer": "ipython3",
      "version": "3.12.4"
    }
  },
  "nbformat": 4,
  "nbformat_minor": 0
}
