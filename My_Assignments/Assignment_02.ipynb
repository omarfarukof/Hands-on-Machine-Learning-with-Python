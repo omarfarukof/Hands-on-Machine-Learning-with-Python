{
  "cells": [
    {
      "cell_type": "markdown",
      "metadata": {},
      "source": [
        "| | | |\n",
        "|-|:--:|-|\n",
        "|![IUT](/run/media/omarf/UnknownSSD/IUT/IUT_7th_Sem/EEE_4710/github/Hands-on-Machine-Learning-with-Python/My_Assignments/iut_logo/IUT_logo.png)|$$\\textbf{\\Large Islamic University of Technology (IUT)}\\newline\\textbf{\\textit{\\large Organization of Islamic Cooperation (OIC)} }\\newline\\text{ \\normalsize Department of Electrical and Electronic Engineering }$$|![OIC](/run/media/omarf/UnknownSSD/IUT/IUT_7th_Sem/EEE_4710/github/Hands-on-Machine-Learning-with-Python/My_Assignments/iut_logo/OIC_logo.png)|\n"
      ]
    },
    {
      "cell_type": "markdown",
      "metadata": {
        "id": "otNmzCJp5Myx"
      },
      "source": [
        "| **ID**             | **200021118**                                        |\n",
        "| ------------------ | ---------------------------------------------------- |\n",
        "| **Name**           | **Omar Faruk**                                       |\n",
        "| **Course ID**      | **EEE 4710**                                         |\n",
        "| **Course Name**    | **Artificial Intelligence and Machine Learning Lab** |\n",
        "| **Assignment No.** | **2**                                                |"
      ]
    },
    {
      "cell_type": "code",
      "execution_count": 1,
      "metadata": {
        "id": "lx0UeznjEao5"
      },
      "outputs": [],
      "source": [
        "import numpy as np\n",
        "import pandas as pd"
      ]
    },
    {
      "cell_type": "markdown",
      "metadata": {
        "id": "gMCozZbrGE_5"
      },
      "source": [
        "# Question - 01"
      ]
    },
    {
      "cell_type": "markdown",
      "metadata": {
        "id": "PQiIqDzM5g4M"
      },
      "source": [
        "A numpy array is given. Find the maximum value of -\n",
        "\n",
        "*   the whole matrix\n",
        "*   column-wise\n",
        "*   row-wise\n",
        "\n",
        "\n"
      ]
    },
    {
      "cell_type": "code",
      "execution_count": 2,
      "metadata": {
        "id": "Hany9Y9-5fmH"
      },
      "outputs": [],
      "source": [
        "mat= np.random.randint(3,100,(3,7))\n",
        "mat2 = np.random.randint(200,2000,(1,5))\n",
        "\n",
        "# write your answer below"
      ]
    },
    {
      "cell_type": "code",
      "execution_count": 3,
      "metadata": {},
      "outputs": [
        {
          "name": "stdout",
          "output_type": "stream",
          "text": [
            "mat=\n",
            "[[81 87 35 96 13 48 80]\n",
            " [96 34 32 70 93 46 33]\n",
            " [63 35 95 69 78 32 21]]\n",
            "\n",
            "a. max of whole matrix: 96\n",
            "b. column wise max: [96 87 95 96 93 48 80]\n",
            "c. row wise max: [96 96 95]\n",
            "\n",
            "mat=\n",
            "[[1200 1940 1594 1442  333]]\n",
            "\n",
            "a. max of whole matrix: 1940\n",
            "b. column wise max: [1200 1940 1594 1442  333]\n",
            "c. row wise max: [1940]\n",
            "\n"
          ]
        }
      ],
      "source": [
        "# Solution\n",
        "def q1_max(mat):\n",
        "    print(f\"mat=\\n{mat}\\n\")\n",
        "    print(f\"a. max of whole matrix: {mat.max()}\")\n",
        "    print(f\"b. column wise max: {mat.max(axis=0)}\")\n",
        "    print(f\"c. row wise max: {mat.max(axis=1)}\\n\")\n",
        "\n",
        "# For mat\n",
        "q1_max(mat)\n",
        "\n",
        "#  For mat2\n",
        "q1_max(mat2)\n"
      ]
    },
    {
      "cell_type": "markdown",
      "metadata": {
        "id": "4DblSMZx5NZc"
      },
      "source": [
        "# Question - 02"
      ]
    },
    {
      "cell_type": "markdown",
      "metadata": {
        "id": "3EjHFj3g6FKq"
      },
      "source": [
        "Abbreviate the given strings."
      ]
    },
    {
      "cell_type": "code",
      "execution_count": 4,
      "metadata": {
        "id": "T08VmfM_4gA5"
      },
      "outputs": [],
      "source": [
        "s1= 'dhaka University'  # output= 'DU'\n",
        "s2= 'Laser Interferometer Gravitational-Wave Observatory'   # output = 'LIGO'\n",
        "\n",
        "# write your answer below"
      ]
    },
    {
      "cell_type": "code",
      "execution_count": 5,
      "metadata": {},
      "outputs": [
        {
          "name": "stdout",
          "output_type": "stream",
          "text": [
            "DU\n",
            "LIGO\n"
          ]
        }
      ],
      "source": [
        "# Solution\n",
        "def q2_abbreviate(s: str) -> str:\n",
        "    s = [ x[0] for x in s.split(' ') ]\n",
        "    s = ''.join(s).upper()\n",
        "    print(s)\n",
        "    # return s\n",
        "\n",
        "# For s1\n",
        "q2_abbreviate(s1)\n",
        "\n",
        "# For s2\n",
        "q2_abbreviate(s2)"
      ]
    },
    {
      "cell_type": "markdown",
      "metadata": {
        "id": "w0vqGsjF603-"
      },
      "source": [
        "# Question - 03"
      ]
    },
    {
      "cell_type": "markdown",
      "metadata": {
        "id": "_d3eST6w63ZH"
      },
      "source": [
        "Given a tuple of integers, sort them based on the absolute value of the numbers. The output should also be a tuple."
      ]
    },
    {
      "cell_type": "code",
      "execution_count": 6,
      "metadata": {
        "id": "g3C198UO7Gqf"
      },
      "outputs": [],
      "source": [
        "m=(3,4,0,-4,-2,1,6)    # output = (0, 1, -2, 3, 4, -4, 6)\n",
        "\n",
        "# write your answer below -"
      ]
    },
    {
      "cell_type": "code",
      "execution_count": 7,
      "metadata": {},
      "outputs": [
        {
          "name": "stdout",
          "output_type": "stream",
          "text": [
            "(0, 1, -2, 3, 4, -4, 6)\n"
          ]
        }
      ],
      "source": [
        "# Solution\n",
        "def q3_sort(m: tuple) -> tuple:\n",
        "    # tuple to list\n",
        "    m = list(m)\n",
        "    # sort based on absolute value\n",
        "    m.sort(key=abs)\n",
        "    # list to tuple\n",
        "    m = tuple(m)\n",
        "    print(m)\n",
        "    # return m\n",
        "\n",
        "# For m\n",
        "q3_sort(m)   "
      ]
    },
    {
      "cell_type": "markdown",
      "metadata": {
        "id": "AHrw3Hep7Mmu"
      },
      "source": [
        "# Question - 04"
      ]
    },
    {
      "cell_type": "markdown",
      "metadata": {
        "id": "lcHPO3eQ7PEG"
      },
      "source": [
        "A list of length 2n is given.\n",
        "\n",
        "a=[x1,x2,....,xn,y1,y2,...,yn].\n",
        "\n",
        "\n",
        "You need to create a dataframe object from the given list with two columns. Each column will have half the items of the list. Column-1 will contain x1, x2, ...., xn. Column-2 will contain y1, y2, ...., yn.\n",
        "\n",
        "Name of the columns should be - Col1 and Col2."
      ]
    },
    {
      "cell_type": "code",
      "execution_count": 8,
      "metadata": {
        "id": "3FyBgBGD7__S"
      },
      "outputs": [],
      "source": [
        "a=[3,6,1,2,'a','c','b','z']\n",
        "\n",
        "# write your answer below -"
      ]
    },
    {
      "cell_type": "code",
      "execution_count": 9,
      "metadata": {},
      "outputs": [
        {
          "data": {
            "text/html": [
              "<div>\n",
              "<style scoped>\n",
              "    .dataframe tbody tr th:only-of-type {\n",
              "        vertical-align: middle;\n",
              "    }\n",
              "\n",
              "    .dataframe tbody tr th {\n",
              "        vertical-align: top;\n",
              "    }\n",
              "\n",
              "    .dataframe thead th {\n",
              "        text-align: right;\n",
              "    }\n",
              "</style>\n",
              "<table border=\"1\" class=\"dataframe\">\n",
              "  <thead>\n",
              "    <tr style=\"text-align: right;\">\n",
              "      <th></th>\n",
              "      <th>Cal1</th>\n",
              "      <th>Cal2</th>\n",
              "    </tr>\n",
              "  </thead>\n",
              "  <tbody>\n",
              "    <tr>\n",
              "      <th>0</th>\n",
              "      <td>3</td>\n",
              "      <td>a</td>\n",
              "    </tr>\n",
              "    <tr>\n",
              "      <th>1</th>\n",
              "      <td>6</td>\n",
              "      <td>c</td>\n",
              "    </tr>\n",
              "    <tr>\n",
              "      <th>2</th>\n",
              "      <td>1</td>\n",
              "      <td>b</td>\n",
              "    </tr>\n",
              "    <tr>\n",
              "      <th>3</th>\n",
              "      <td>2</td>\n",
              "      <td>z</td>\n",
              "    </tr>\n",
              "  </tbody>\n",
              "</table>\n",
              "</div>"
            ],
            "text/plain": [
              "   Cal1 Cal2\n",
              "0     3    a\n",
              "1     6    c\n",
              "2     1    b\n",
              "3     2    z"
            ]
          },
          "execution_count": 9,
          "metadata": {},
          "output_type": "execute_result"
        }
      ],
      "source": [
        "# Solution\n",
        "def q4_dataframe(a: list) -> pd.DataFrame:\n",
        "    m = int(len(a)/2)\n",
        "    x = a[:m]\n",
        "    y = a[m:]\n",
        "    df = pd.DataFrame({\n",
        "        'Cal1': x,\n",
        "        'Cal2': y\n",
        "    })\n",
        "    return df\n",
        "\n",
        "# For a\n",
        "q4_dataframe(a)"
      ]
    },
    {
      "cell_type": "markdown",
      "metadata": {
        "id": "W-IPdVnj8Ddg"
      },
      "source": [
        "# Question - 05"
      ]
    },
    {
      "cell_type": "markdown",
      "metadata": {
        "id": "78wQ8zsD8FtT"
      },
      "source": [
        "A numpy array is given. Write a function that produces two outputs -\n",
        "\n",
        "*   the index of all non-zero elements in the array\n",
        "*   the index of all positive elements in the array\n"
      ]
    },
    {
      "cell_type": "code",
      "execution_count": 10,
      "metadata": {
        "id": "hwwuGGw78rC5"
      },
      "outputs": [],
      "source": [
        "# write your answer below -\n",
        "\n",
        "def find_elem(a):\n",
        "    ind_non_zero = np.nonzero(a!=0)\n",
        "    ind_pos = np.nonzero(a >= 0)\n",
        "    \n",
        "    return ind_non_zero, ind_pos"
      ]
    },
    {
      "cell_type": "code",
      "execution_count": 11,
      "metadata": {
        "id": "XlfmPD4R9UkW"
      },
      "outputs": [],
      "source": [
        "a= np.random.randint(-30,10,(9,7))\n",
        "b = np.random.randint(-30,0,(5,12))\n",
        "\n",
        "# call your function here"
      ]
    },
    {
      "cell_type": "code",
      "execution_count": 12,
      "metadata": {},
      "outputs": [
        {
          "name": "stdout",
          "output_type": "stream",
          "text": [
            "a = \n",
            "[[ -9 -12   0 -24   1 -11   1]\n",
            " [-27 -20 -21 -20 -19   5 -13]\n",
            " [ -8  -7   3   9  -6  -3  -1]\n",
            " [-23 -27   8   8 -29 -12   9]\n",
            " [  3   6 -30   7   8  -7 -20]\n",
            " [ -7 -12   5 -17 -29 -12 -21]\n",
            " [  9 -14   9 -14   9 -30 -15]\n",
            " [ -5 -18  -5 -27 -28  -7 -19]\n",
            " [  5   5   1 -21 -27 -12  -7]]\n",
            "\n",
            "Non-zero indices: (array([0, 0, 0, 0, 0, 0, 1, 1, 1, 1, 1, 1, 1, 2, 2, 2, 2, 2, 2, 2, 3, 3,\n",
            "       3, 3, 3, 3, 3, 4, 4, 4, 4, 4, 4, 4, 5, 5, 5, 5, 5, 5, 5, 6, 6, 6,\n",
            "       6, 6, 6, 6, 7, 7, 7, 7, 7, 7, 7, 8, 8, 8, 8, 8, 8, 8]), array([0, 1, 3, 4, 5, 6, 0, 1, 2, 3, 4, 5, 6, 0, 1, 2, 3, 4, 5, 6, 0, 1,\n",
            "       2, 3, 4, 5, 6, 0, 1, 2, 3, 4, 5, 6, 0, 1, 2, 3, 4, 5, 6, 0, 1, 2,\n",
            "       3, 4, 5, 6, 0, 1, 2, 3, 4, 5, 6, 0, 1, 2, 3, 4, 5, 6]))\n",
            "\n",
            "Positive indices: (array([0, 0, 0, 1, 2, 2, 3, 3, 3, 4, 4, 4, 4, 5, 6, 6, 6, 8, 8, 8]), array([2, 4, 6, 5, 2, 3, 2, 3, 6, 0, 1, 3, 4, 2, 0, 2, 4, 0, 1, 2]))\n",
            "\n",
            "\n",
            "b = \n",
            "[[-28  -7 -25 -12 -19  -1  -7 -22 -30 -30 -20 -14]\n",
            " [-11  -3 -19 -14 -10 -14  -9  -9 -28  -6  -7 -29]\n",
            " [ -6 -18 -22 -16 -13 -21 -10 -17  -8  -2  -1  -5]\n",
            " [-30 -18  -1 -10  -8 -23  -6 -17  -9 -11  -9 -20]\n",
            " [-20  -4 -26  -2  -2 -18 -23 -29  -1  -9 -27 -28]]\n",
            "\n",
            "Non-zero indices: (array([0, 0, 0, 0, 0, 0, 0, 0, 0, 0, 0, 0, 1, 1, 1, 1, 1, 1, 1, 1, 1, 1,\n",
            "       1, 1, 2, 2, 2, 2, 2, 2, 2, 2, 2, 2, 2, 2, 3, 3, 3, 3, 3, 3, 3, 3,\n",
            "       3, 3, 3, 3, 4, 4, 4, 4, 4, 4, 4, 4, 4, 4, 4, 4]), array([ 0,  1,  2,  3,  4,  5,  6,  7,  8,  9, 10, 11,  0,  1,  2,  3,  4,\n",
            "        5,  6,  7,  8,  9, 10, 11,  0,  1,  2,  3,  4,  5,  6,  7,  8,  9,\n",
            "       10, 11,  0,  1,  2,  3,  4,  5,  6,  7,  8,  9, 10, 11,  0,  1,  2,\n",
            "        3,  4,  5,  6,  7,  8,  9, 10, 11]))\n",
            "\n",
            "Positive indices: (array([], dtype=int64), array([], dtype=int64))\n",
            "\n",
            "\n"
          ]
        }
      ],
      "source": [
        "z_a , p_a = find_elem(a)\n",
        "print(f\"a = \\n{a}\\n\")\n",
        "print(f\"Non-zero indices: {z_a}\\n\")\n",
        "print(f\"Positive indices: {p_a}\\n\\n\")\n",
        "\n",
        "z_b , p_b = find_elem(b)\n",
        "print(f\"b = \\n{b}\\n\")\n",
        "print(f\"Non-zero indices: {z_b}\\n\")\n",
        "print(f\"Positive indices: {p_b}\\n\\n\")"
      ]
    },
    {
      "cell_type": "markdown",
      "metadata": {
        "id": "R5jyP60_9b5Z"
      },
      "source": [
        "# Question - 06"
      ]
    },
    {
      "cell_type": "markdown",
      "metadata": {
        "id": "XG8wMEJyDrtM"
      },
      "source": [
        "Two lists are given. Find out how many numbers in the first list are higher or equal than the corresponding numbers in the second list.\n",
        "\n",
        "n.b. you cannot use for loop for this task."
      ]
    },
    {
      "cell_type": "code",
      "execution_count": 13,
      "metadata": {
        "id": "IOmNkb7mELGn"
      },
      "outputs": [],
      "source": [
        "x1=[3,7,5,1,8,10,-4,-6]\n",
        "x2=[10,2,0,4,1,6,-4,-5]\n",
        "\n",
        "# write your answer below -"
      ]
    },
    {
      "cell_type": "code",
      "execution_count": 14,
      "metadata": {},
      "outputs": [
        {
          "name": "stdout",
          "output_type": "stream",
          "text": [
            "Number of elements: 5\n"
          ]
        }
      ],
      "source": [
        "def q6_high_equal(x1, x2):\n",
        "    # list to numpy array\n",
        "    x1_np = np.array(x1)\n",
        "    x2_np = np.array(x2)\n",
        "    \n",
        "    out = np.nonzero(x1_np >= x2_np)[0]\n",
        "    # return out.shape[0]\n",
        "    print (f\"Number of elements: {out.shape[0]}\")\n",
        "    \n",
        "# For x1 , x2\n",
        "q6_high_equal(x1, x2)"
      ]
    },
    {
      "cell_type": "markdown",
      "metadata": {
        "id": "O-1DzcJhEuIi"
      },
      "source": [
        "# Question - 07"
      ]
    },
    {
      "cell_type": "markdown",
      "metadata": {
        "id": "2f_Z7tTRExU3"
      },
      "source": [
        "*Iccanobif Numbers*\n",
        "\n",
        "Given a number n. Write a function to find first n Iccanobif Numbers.\n",
        "Iccanobif Numbers are similar to Fibonacci Numbers. The K-th Iccanobif number can be obtained by addition of previous two numbers after reversing their digits."
      ]
    },
    {
      "cell_type": "code",
      "execution_count": 15,
      "metadata": {
        "id": "q7zUhxqhFVAD"
      },
      "outputs": [],
      "source": [
        "def digit_rev(num):\n",
        "    # d = np.ceil(np.log10(num))\n",
        "    return int(str(num)[::-1])\n",
        "\n",
        "def iccanobif(n):\n",
        "    ic_num = np.zeros((n,) , dtype=int)\n",
        "    for i in range(n):\n",
        "        if i == 0:\n",
        "            ic_num[i] = 0\n",
        "        elif i == 1:\n",
        "            ic_num[i] = 1\n",
        "        else:\n",
        "            ic_num[i] = digit_rev(ic_num[i-1]) + digit_rev(ic_num[i-2])\n",
        "    return ic_num"
      ]
    },
    {
      "cell_type": "code",
      "execution_count": 16,
      "metadata": {},
      "outputs": [
        {
          "name": "stdout",
          "output_type": "stream",
          "text": [
            "[  0   1   1   2   3   5   8  13  39 124 514 836]\n"
          ]
        }
      ],
      "source": [
        "print( iccanobif(12) )"
      ]
    },
    {
      "cell_type": "markdown",
      "metadata": {
        "id": "0PwJH5qFFapy"
      },
      "source": [
        "# Question - 08"
      ]
    },
    {
      "cell_type": "markdown",
      "metadata": {
        "id": "XVSFXbfBFcor"
      },
      "source": [
        "Given a list of names of students, add a 'Mr.' in front for male and a 'Ms.' for female."
      ]
    },
    {
      "cell_type": "code",
      "execution_count": 17,
      "metadata": {
        "id": "o8chrwOBFuky"
      },
      "outputs": [],
      "source": [
        "name=[('Evaaaaaa','female'),('Wall-e','male'), ('Optimus', '  male')]\n",
        "\n",
        "#ans= ['Ms. Evaaaaaa', 'Mr.Wall-e']\n",
        "#write your answer below --"
      ]
    },
    {
      "cell_type": "code",
      "execution_count": 18,
      "metadata": {},
      "outputs": [
        {
          "data": {
            "text/plain": [
              "['Ms. Evaaaaaa', 'Mr. Wall-e', 'Mr. Optimus']"
            ]
          },
          "execution_count": 18,
          "metadata": {},
          "output_type": "execute_result"
        }
      ],
      "source": [
        "def q7_name(name: list) -> list:\n",
        "    name = np.array(name)\n",
        "    n = name.shape[0]    \n",
        "    out = []\n",
        "    for x in range(n):\n",
        "        if 'female' in name[x,1]:\n",
        "            out.append('Ms. ' + name[x,0])\n",
        "        elif 'male' in name[x,1]:\n",
        "            out.append('Mr. ' + name[x,0])\n",
        "    \n",
        "    return out\n",
        "\n",
        "# For name\n",
        "q7_name(name)"
      ]
    },
    {
      "cell_type": "markdown",
      "metadata": {
        "id": "nSGq2kXIGAJ3"
      },
      "source": [
        "# Question - 09"
      ]
    },
    {
      "cell_type": "markdown",
      "metadata": {
        "id": "8wouxDuMGY1v"
      },
      "source": [
        "Create a multiplication table from 1 to 15.\n",
        "\n",
        "*   don't use any for loop\n",
        "*   use broadcasting\n",
        "\n",
        "Hint: np.newaxis\n"
      ]
    },
    {
      "cell_type": "markdown",
      "metadata": {
        "id": "SmpSfZcSIvMT"
      },
      "source": [
        "\n",
        "\n",
        "       [[ 1,  2,  3,  4,  5,  6,  7,  8,  9],\n",
        "       [ 2,  4,  6,  8, 10, 12, 14, 16, 18],\n",
        "       [ 3,  6,  9, 12, 15, 18, 21, 24, 27],\n",
        "       [ 4,  8, 12, 16, 20, 24, 28, 32, 36],\n",
        "       [ 5, 10, 15, 20, 25, 30, 35, 40, 45],\n",
        "       [ 6, 12, 18, 24, 30, 36, 42, 48, 54],\n",
        "       [ 7, 14, 21, 28, 35, 42, 49, 56, 63],\n",
        "       [ 8, 16, 24, 32, 40, 48, 56, 64, 72],\n",
        "       [ 9, 18, 27, 36, 45, 54, 63, 72, 81]]"
      ]
    },
    {
      "cell_type": "code",
      "execution_count": 19,
      "metadata": {
        "id": "rNa8n6qBHISE"
      },
      "outputs": [],
      "source": [
        "a= np.arange(1, 16)\n",
        "\n",
        "# write your code here"
      ]
    },
    {
      "cell_type": "code",
      "execution_count": 20,
      "metadata": {},
      "outputs": [
        {
          "name": "stdout",
          "output_type": "stream",
          "text": [
            "[[  1   2   3   4   5   6   7   8   9  10  11  12  13  14  15]\n",
            " [  2   4   6   8  10  12  14  16  18  20  22  24  26  28  30]\n",
            " [  3   6   9  12  15  18  21  24  27  30  33  36  39  42  45]\n",
            " [  4   8  12  16  20  24  28  32  36  40  44  48  52  56  60]\n",
            " [  5  10  15  20  25  30  35  40  45  50  55  60  65  70  75]\n",
            " [  6  12  18  24  30  36  42  48  54  60  66  72  78  84  90]\n",
            " [  7  14  21  28  35  42  49  56  63  70  77  84  91  98 105]\n",
            " [  8  16  24  32  40  48  56  64  72  80  88  96 104 112 120]\n",
            " [  9  18  27  36  45  54  63  72  81  90  99 108 117 126 135]\n",
            " [ 10  20  30  40  50  60  70  80  90 100 110 120 130 140 150]\n",
            " [ 11  22  33  44  55  66  77  88  99 110 121 132 143 154 165]\n",
            " [ 12  24  36  48  60  72  84  96 108 120 132 144 156 168 180]\n",
            " [ 13  26  39  52  65  78  91 104 117 130 143 156 169 182 195]\n",
            " [ 14  28  42  56  70  84  98 112 126 140 154 168 182 196 210]\n",
            " [ 15  30  45  60  75  90 105 120 135 150 165 180 195 210 225]]\n"
          ]
        }
      ],
      "source": [
        "def q9_mul_table(n):\n",
        "    table = np.arange(1,n+1) * np.arange(1,n+1).reshape(-1,1)\n",
        "    return table\n",
        "\n",
        "table = q9_mul_table(15)\n",
        "print(table)"
      ]
    },
    {
      "cell_type": "markdown",
      "metadata": {
        "id": "sG0pLq4dJE13"
      },
      "source": [
        "# Question - 10"
      ]
    },
    {
      "cell_type": "markdown",
      "metadata": {
        "id": "oVt0QBobJIfl"
      },
      "source": [
        "Create a dataframe from the dictionary given. Change the dataframe's last column's name from 'score' to 'rating1'."
      ]
    },
    {
      "cell_type": "code",
      "execution_count": 21,
      "metadata": {
        "colab": {
          "base_uri": "https://localhost:8080/",
          "height": 175
        },
        "id": "N6531Gs5KAX1",
        "outputId": "61548583-3e5b-4848-f729-bb2b04140b30"
      },
      "outputs": [
        {
          "data": {
            "text/html": [
              "<div>\n",
              "<style scoped>\n",
              "    .dataframe tbody tr th:only-of-type {\n",
              "        vertical-align: middle;\n",
              "    }\n",
              "\n",
              "    .dataframe tbody tr th {\n",
              "        vertical-align: top;\n",
              "    }\n",
              "\n",
              "    .dataframe thead th {\n",
              "        text-align: right;\n",
              "    }\n",
              "</style>\n",
              "<table border=\"1\" class=\"dataframe\">\n",
              "  <thead>\n",
              "    <tr style=\"text-align: right;\">\n",
              "      <th></th>\n",
              "      <th>Name</th>\n",
              "      <th>Identity</th>\n",
              "      <th>Actors</th>\n",
              "      <th>Age</th>\n",
              "      <th>Score</th>\n",
              "    </tr>\n",
              "  </thead>\n",
              "  <tbody>\n",
              "    <tr>\n",
              "      <th>0</th>\n",
              "      <td>Bruce</td>\n",
              "      <td>Batman</td>\n",
              "      <td>Affleck</td>\n",
              "      <td>44</td>\n",
              "      <td>10.0</td>\n",
              "    </tr>\n",
              "    <tr>\n",
              "      <th>1</th>\n",
              "      <td>Clark</td>\n",
              "      <td>Superman</td>\n",
              "      <td>Henry</td>\n",
              "      <td>27</td>\n",
              "      <td>9.5</td>\n",
              "    </tr>\n",
              "    <tr>\n",
              "      <th>2</th>\n",
              "      <td>Peter</td>\n",
              "      <td>Spiderman</td>\n",
              "      <td>Maguire</td>\n",
              "      <td>22</td>\n",
              "      <td>9.0</td>\n",
              "    </tr>\n",
              "    <tr>\n",
              "      <th>3</th>\n",
              "      <td>Gandalf</td>\n",
              "      <td>Wizard</td>\n",
              "      <td>Ian</td>\n",
              "      <td>50000</td>\n",
              "      <td>9.5</td>\n",
              "    </tr>\n",
              "  </tbody>\n",
              "</table>\n",
              "</div>"
            ],
            "text/plain": [
              "      Name   Identity   Actors    Age  Score\n",
              "0    Bruce     Batman  Affleck     44   10.0\n",
              "1    Clark   Superman    Henry     27    9.5\n",
              "2    Peter  Spiderman  Maguire     22    9.0\n",
              "3  Gandalf     Wizard      Ian  50000    9.5"
            ]
          },
          "execution_count": 21,
          "metadata": {},
          "output_type": "execute_result"
        }
      ],
      "source": [
        "data = {\n",
        "    'Name': ['Bruce', 'Clark', 'Peter', 'Gandalf'],\n",
        "    'Identity': ['Batman', 'Superman', 'Spiderman', 'Wizard'],\n",
        "    'Actors': ['Affleck', 'Henry', 'Maguire', 'Ian'],\n",
        "    'Age': [44, 27, 22, 50000],\n",
        "    'Score': [10, 9.5, 9, 9.5]\n",
        "}\n",
        "df= pd.DataFrame(data)\n",
        "df"
      ]
    },
    {
      "cell_type": "code",
      "execution_count": 22,
      "metadata": {
        "id": "N5N-RECmKMra"
      },
      "outputs": [
        {
          "data": {
            "text/html": [
              "<div>\n",
              "<style scoped>\n",
              "    .dataframe tbody tr th:only-of-type {\n",
              "        vertical-align: middle;\n",
              "    }\n",
              "\n",
              "    .dataframe tbody tr th {\n",
              "        vertical-align: top;\n",
              "    }\n",
              "\n",
              "    .dataframe thead th {\n",
              "        text-align: right;\n",
              "    }\n",
              "</style>\n",
              "<table border=\"1\" class=\"dataframe\">\n",
              "  <thead>\n",
              "    <tr style=\"text-align: right;\">\n",
              "      <th></th>\n",
              "      <th>Name</th>\n",
              "      <th>Identity</th>\n",
              "      <th>Actors</th>\n",
              "      <th>Age</th>\n",
              "      <th>Rating1</th>\n",
              "    </tr>\n",
              "  </thead>\n",
              "  <tbody>\n",
              "    <tr>\n",
              "      <th>0</th>\n",
              "      <td>Bruce</td>\n",
              "      <td>Batman</td>\n",
              "      <td>Affleck</td>\n",
              "      <td>44</td>\n",
              "      <td>10.0</td>\n",
              "    </tr>\n",
              "    <tr>\n",
              "      <th>1</th>\n",
              "      <td>Clark</td>\n",
              "      <td>Superman</td>\n",
              "      <td>Henry</td>\n",
              "      <td>27</td>\n",
              "      <td>9.5</td>\n",
              "    </tr>\n",
              "    <tr>\n",
              "      <th>2</th>\n",
              "      <td>Peter</td>\n",
              "      <td>Spiderman</td>\n",
              "      <td>Maguire</td>\n",
              "      <td>22</td>\n",
              "      <td>9.0</td>\n",
              "    </tr>\n",
              "    <tr>\n",
              "      <th>3</th>\n",
              "      <td>Gandalf</td>\n",
              "      <td>Wizard</td>\n",
              "      <td>Ian</td>\n",
              "      <td>50000</td>\n",
              "      <td>9.5</td>\n",
              "    </tr>\n",
              "  </tbody>\n",
              "</table>\n",
              "</div>"
            ],
            "text/plain": [
              "      Name   Identity   Actors    Age  Rating1\n",
              "0    Bruce     Batman  Affleck     44     10.0\n",
              "1    Clark   Superman    Henry     27      9.5\n",
              "2    Peter  Spiderman  Maguire     22      9.0\n",
              "3  Gandalf     Wizard      Ian  50000      9.5"
            ]
          },
          "execution_count": 22,
          "metadata": {},
          "output_type": "execute_result"
        }
      ],
      "source": [
        "# write your code here\n",
        "def q10_dataframe(data):\n",
        "    df = pd.DataFrame(data)\n",
        "    # change last column name form 'score' to 'rating1'\n",
        "    df.rename(columns = {'Score':'Rating1'}, inplace = True)\n",
        "    return df\n",
        "\n",
        "df = q10_dataframe(data)\n",
        "df"
      ]
    },
    {
      "cell_type": "markdown",
      "metadata": {
        "id": "sRjMnnPMKOjg"
      },
      "source": [
        "# Question - 11"
      ]
    },
    {
      "cell_type": "markdown",
      "metadata": {
        "id": "UJNC0zStLPY4"
      },
      "source": [
        "Add a new column to your dataframe termed 'Rating-2.\n",
        "\n",
        "rating-2 = [9, 9, 7.5, 8.5]"
      ]
    },
    {
      "cell_type": "code",
      "execution_count": 23,
      "metadata": {
        "id": "kDQsIWopL9fo"
      },
      "outputs": [
        {
          "data": {
            "text/html": [
              "<div>\n",
              "<style scoped>\n",
              "    .dataframe tbody tr th:only-of-type {\n",
              "        vertical-align: middle;\n",
              "    }\n",
              "\n",
              "    .dataframe tbody tr th {\n",
              "        vertical-align: top;\n",
              "    }\n",
              "\n",
              "    .dataframe thead th {\n",
              "        text-align: right;\n",
              "    }\n",
              "</style>\n",
              "<table border=\"1\" class=\"dataframe\">\n",
              "  <thead>\n",
              "    <tr style=\"text-align: right;\">\n",
              "      <th></th>\n",
              "      <th>Name</th>\n",
              "      <th>Identity</th>\n",
              "      <th>Actors</th>\n",
              "      <th>Age</th>\n",
              "      <th>Rating1</th>\n",
              "      <th>Rating2</th>\n",
              "    </tr>\n",
              "  </thead>\n",
              "  <tbody>\n",
              "    <tr>\n",
              "      <th>0</th>\n",
              "      <td>Bruce</td>\n",
              "      <td>Batman</td>\n",
              "      <td>Affleck</td>\n",
              "      <td>44</td>\n",
              "      <td>10.0</td>\n",
              "      <td>9.0</td>\n",
              "    </tr>\n",
              "    <tr>\n",
              "      <th>1</th>\n",
              "      <td>Clark</td>\n",
              "      <td>Superman</td>\n",
              "      <td>Henry</td>\n",
              "      <td>27</td>\n",
              "      <td>9.5</td>\n",
              "      <td>9.0</td>\n",
              "    </tr>\n",
              "    <tr>\n",
              "      <th>2</th>\n",
              "      <td>Peter</td>\n",
              "      <td>Spiderman</td>\n",
              "      <td>Maguire</td>\n",
              "      <td>22</td>\n",
              "      <td>9.0</td>\n",
              "      <td>7.5</td>\n",
              "    </tr>\n",
              "    <tr>\n",
              "      <th>3</th>\n",
              "      <td>Gandalf</td>\n",
              "      <td>Wizard</td>\n",
              "      <td>Ian</td>\n",
              "      <td>50000</td>\n",
              "      <td>9.5</td>\n",
              "      <td>8.5</td>\n",
              "    </tr>\n",
              "  </tbody>\n",
              "</table>\n",
              "</div>"
            ],
            "text/plain": [
              "      Name   Identity   Actors    Age  Rating1  Rating2\n",
              "0    Bruce     Batman  Affleck     44     10.0      9.0\n",
              "1    Clark   Superman    Henry     27      9.5      9.0\n",
              "2    Peter  Spiderman  Maguire     22      9.0      7.5\n",
              "3  Gandalf     Wizard      Ian  50000      9.5      8.5"
            ]
          },
          "execution_count": 23,
          "metadata": {},
          "output_type": "execute_result"
        }
      ],
      "source": [
        "# write your code here\n",
        "rating2 = [9, 9, 7.5, 8.5]\n",
        "\n",
        "df['Rating2'] = rating2\n",
        "df"
      ]
    },
    {
      "cell_type": "markdown",
      "metadata": {
        "id": "RIXhGZyQL_Bg"
      },
      "source": [
        "# Question - 12"
      ]
    },
    {
      "cell_type": "markdown",
      "metadata": {
        "id": "KWAa37JuMB1T"
      },
      "source": [
        "Replace the rating1 and rating2 columns with a new column name 'avg_rating'. It will contain the average of those two column values."
      ]
    },
    {
      "cell_type": "code",
      "execution_count": 24,
      "metadata": {
        "id": "2XAu9EBAMWM3"
      },
      "outputs": [
        {
          "data": {
            "text/html": [
              "<div>\n",
              "<style scoped>\n",
              "    .dataframe tbody tr th:only-of-type {\n",
              "        vertical-align: middle;\n",
              "    }\n",
              "\n",
              "    .dataframe tbody tr th {\n",
              "        vertical-align: top;\n",
              "    }\n",
              "\n",
              "    .dataframe thead th {\n",
              "        text-align: right;\n",
              "    }\n",
              "</style>\n",
              "<table border=\"1\" class=\"dataframe\">\n",
              "  <thead>\n",
              "    <tr style=\"text-align: right;\">\n",
              "      <th></th>\n",
              "      <th>Name</th>\n",
              "      <th>Identity</th>\n",
              "      <th>Actors</th>\n",
              "      <th>Age</th>\n",
              "      <th>avg_rating</th>\n",
              "    </tr>\n",
              "  </thead>\n",
              "  <tbody>\n",
              "    <tr>\n",
              "      <th>0</th>\n",
              "      <td>Bruce</td>\n",
              "      <td>Batman</td>\n",
              "      <td>Affleck</td>\n",
              "      <td>44</td>\n",
              "      <td>9.50</td>\n",
              "    </tr>\n",
              "    <tr>\n",
              "      <th>1</th>\n",
              "      <td>Clark</td>\n",
              "      <td>Superman</td>\n",
              "      <td>Henry</td>\n",
              "      <td>27</td>\n",
              "      <td>9.25</td>\n",
              "    </tr>\n",
              "    <tr>\n",
              "      <th>2</th>\n",
              "      <td>Peter</td>\n",
              "      <td>Spiderman</td>\n",
              "      <td>Maguire</td>\n",
              "      <td>22</td>\n",
              "      <td>8.25</td>\n",
              "    </tr>\n",
              "    <tr>\n",
              "      <th>3</th>\n",
              "      <td>Gandalf</td>\n",
              "      <td>Wizard</td>\n",
              "      <td>Ian</td>\n",
              "      <td>50000</td>\n",
              "      <td>9.00</td>\n",
              "    </tr>\n",
              "  </tbody>\n",
              "</table>\n",
              "</div>"
            ],
            "text/plain": [
              "      Name   Identity   Actors    Age  avg_rating\n",
              "0    Bruce     Batman  Affleck     44        9.50\n",
              "1    Clark   Superman    Henry     27        9.25\n",
              "2    Peter  Spiderman  Maguire     22        8.25\n",
              "3  Gandalf     Wizard      Ian  50000        9.00"
            ]
          },
          "execution_count": 24,
          "metadata": {},
          "output_type": "execute_result"
        }
      ],
      "source": [
        "# write your code here\n",
        "\n",
        "df['avg_rating'] = (df['Rating1'] + df['Rating2']) / 2\n",
        "df.drop(columns = ['Rating1', 'Rating2'], inplace = True)\n",
        "df\n"
      ]
    },
    {
      "cell_type": "markdown",
      "metadata": {
        "id": "XpQbngUbMXjt"
      },
      "source": [
        "# Question - 13"
      ]
    },
    {
      "cell_type": "markdown",
      "metadata": {
        "id": "34USEpnHM_7P"
      },
      "source": [
        "Replace the 3rd row with the following information.\n",
        "\n",
        "[Celebrimbor, Elf, N/A, 2000, 8]"
      ]
    },
    {
      "cell_type": "code",
      "execution_count": 25,
      "metadata": {
        "id": "o0JiOeLZNXe2"
      },
      "outputs": [
        {
          "data": {
            "text/html": [
              "<div>\n",
              "<style scoped>\n",
              "    .dataframe tbody tr th:only-of-type {\n",
              "        vertical-align: middle;\n",
              "    }\n",
              "\n",
              "    .dataframe tbody tr th {\n",
              "        vertical-align: top;\n",
              "    }\n",
              "\n",
              "    .dataframe thead th {\n",
              "        text-align: right;\n",
              "    }\n",
              "</style>\n",
              "<table border=\"1\" class=\"dataframe\">\n",
              "  <thead>\n",
              "    <tr style=\"text-align: right;\">\n",
              "      <th></th>\n",
              "      <th>Name</th>\n",
              "      <th>Identity</th>\n",
              "      <th>Actors</th>\n",
              "      <th>Age</th>\n",
              "      <th>avg_rating</th>\n",
              "    </tr>\n",
              "  </thead>\n",
              "  <tbody>\n",
              "    <tr>\n",
              "      <th>0</th>\n",
              "      <td>Bruce</td>\n",
              "      <td>Batman</td>\n",
              "      <td>Affleck</td>\n",
              "      <td>44</td>\n",
              "      <td>9.50</td>\n",
              "    </tr>\n",
              "    <tr>\n",
              "      <th>1</th>\n",
              "      <td>Clark</td>\n",
              "      <td>Superman</td>\n",
              "      <td>Henry</td>\n",
              "      <td>27</td>\n",
              "      <td>9.25</td>\n",
              "    </tr>\n",
              "    <tr>\n",
              "      <th>2</th>\n",
              "      <td>Celebrimbor</td>\n",
              "      <td>Elf</td>\n",
              "      <td>N/A</td>\n",
              "      <td>2000</td>\n",
              "      <td>8.00</td>\n",
              "    </tr>\n",
              "    <tr>\n",
              "      <th>3</th>\n",
              "      <td>Gandalf</td>\n",
              "      <td>Wizard</td>\n",
              "      <td>Ian</td>\n",
              "      <td>50000</td>\n",
              "      <td>9.00</td>\n",
              "    </tr>\n",
              "  </tbody>\n",
              "</table>\n",
              "</div>"
            ],
            "text/plain": [
              "          Name  Identity   Actors    Age  avg_rating\n",
              "0        Bruce    Batman  Affleck     44        9.50\n",
              "1        Clark  Superman    Henry     27        9.25\n",
              "2  Celebrimbor       Elf      N/A   2000        8.00\n",
              "3      Gandalf    Wizard      Ian  50000        9.00"
            ]
          },
          "execution_count": 25,
          "metadata": {},
          "output_type": "execute_result"
        }
      ],
      "source": [
        "# write your code here\n",
        "new_row = ['Celebrimbor', 'Elf', 'N/A', 2000, 8]\n",
        "df.loc[2] = new_row\n",
        "df"
      ]
    },
    {
      "cell_type": "markdown",
      "metadata": {
        "id": "az53DggJOtDC"
      },
      "source": [
        "# Question - 14"
      ]
    },
    {
      "cell_type": "markdown",
      "metadata": {
        "id": "nKJ7hPcpOxWz"
      },
      "source": [
        "\n",
        "\n",
        "1.   Create two separate bar plots from the Age and Rating columns [Use subplot]\n",
        "\n",
        "2.   Create a single bar plot from the Age and Rating columns, both should be placed pair-wise.\n",
        "\n",
        "n.b. The scale will create an issue. you may normalize it to view properly.\n",
        "\n"
      ]
    },
    {
      "cell_type": "code",
      "execution_count": 26,
      "metadata": {},
      "outputs": [],
      "source": [
        "import matplotlib.pyplot as plt"
      ]
    },
    {
      "cell_type": "code",
      "execution_count": 27,
      "metadata": {
        "id": "vz1zDq7UoooD"
      },
      "outputs": [
        {
          "data": {
            "image/png": "[encoded data removed]",
            "text/plain": [
              "<Figure size 640x480 with 2 Axes>"
            ]
          },
          "metadata": {},
          "output_type": "display_data"
        },
        {
          "data": {
            "image/png": "[encoded data removed]",
            "text/plain": [
              "<Figure size 640x480 with 1 Axes>"
            ]
          },
          "metadata": {},
          "output_type": "display_data"
        }
      ],
      "source": [
        "# write your code here\n",
        "def q14_bar_plot(df):\n",
        "    plt.figure(1)\n",
        "    \n",
        "    plt.subplot(1, 2, 1)\n",
        "    plt.bar(df.index , df['Age'] , color='skyblue' , edgecolor='black')\n",
        "    \n",
        "    plt.subplot(1, 2, 2)\n",
        "    plt.bar(df.index , df['avg_rating'] , color='lightgreen' , edgecolor='black')\n",
        "    \n",
        "    plt.figure(2)\n",
        "    # Normalize the data\n",
        "    age = (np.log2(df['Age'])) / max(np.log2(df['Age']))\n",
        "    avg_rate = ((df['avg_rating']) / max(df['avg_rating']) )\n",
        "    \n",
        "    plt.bar( df.index-0.125 , age , 0.25 ,  color='skyblue' , edgecolor='black')\n",
        "    plt.bar( df.index+0.125 , avg_rate , 0.25 , color='lightgreen' , edgecolor='black')\n",
        "\n",
        "\n",
        "    # Display the plot\n",
        "    plt.show()\n",
        "    \n",
        "q14_bar_plot(df)"
      ]
    },
    {
      "cell_type": "markdown",
      "metadata": {
        "id": "kCJTMxXeNf9p"
      },
      "source": [
        "# Question - 15\n"
      ]
    },
    {
      "cell_type": "markdown",
      "metadata": {
        "id": "Yl9USdx7Nh7l"
      },
      "source": [
        "In Cryptography, Caesar Cipher is one of the simplest form of encryption technique. The concept is very simple. You shift the given message by a fixed degree left or right.\n",
        "\n",
        "For Instance,    \n",
        "\n",
        "*   message= 'fire'\n",
        "*   degree = +3\n",
        "*   encrypted message = 'iluh'\n",
        "\n",
        "You only shift the alphanumeric characters; not punctuation or whitespace characters.\n",
        "\n",
        "The characters is so be shifted within the same type i.e. a lowercase should be shifted to a lowercase, a numeric to a numeric.\n",
        "\n",
        "For example, If you've ('z',+2), it should be shifted to ---> 'b'\n",
        "\n",
        "Hints:\n",
        "*   Take a look at dir(str) to see the methods that can be used to identify the type of string.\n",
        "*   ord(__) provieds the ascii value of a character.\n",
        "*   Careful!!, you cannot get vectorized output directly in python.\n",
        "*   chr(__) converts ascii value back to its character.\n"
      ]
    },
    {
      "cell_type": "code",
      "execution_count": 28,
      "metadata": {},
      "outputs": [],
      "source": [
        "# Solution\n",
        "def q15_encrypt(message, degree):\n",
        "    # msg = np.array(message)\n",
        "    np_ord = np.vectorize(ord)\n",
        "    np_cha = np.vectorize(chr)\n",
        "    \n",
        "    msg = np_ord(list(message))\n",
        "    \n",
        "    cap = (msg >= ord('A')) & (msg <= ord('Z'))\n",
        "    small = (msg >= ord('a')) & (msg <= ord('z'))\n",
        "    \n",
        "    msg[cap | small] += degree\n",
        "    \n",
        "    msg[cap & (msg < ord('A'))] += 26\n",
        "    msg[small & (msg < ord('a'))] += 26\n",
        "    msg[cap & (msg > ord('Z'))] -= 26\n",
        "    msg[small & (msg > ord('z'))] -= 26\n",
        "    \n",
        "    msg = np_cha(msg)\n",
        "    msg = ''.join(msg)\n",
        "    return msg\n",
        "    \n"
      ]
    },
    {
      "cell_type": "code",
      "execution_count": 29,
      "metadata": {
        "id": "7Q_TjuVpOaI2"
      },
      "outputs": [
        {
          "name": "stdout",
          "output_type": "stream",
          "text": [
            "Yhkpvhjapcl\n"
          ]
        }
      ],
      "source": [
        "message= 'Radioactive'\n",
        "degree = +7\n",
        "\n",
        "# write your answer below -\n",
        "    \n",
        "print(q15_encrypt(message, degree))"
      ]
    },
    {
      "cell_type": "code",
      "execution_count": 30,
      "metadata": {
        "id": "Hshq5XDco0Ph"
      },
      "outputs": [
        {
          "name": "stdout",
          "output_type": "stream",
          "text": [
            "\n",
            "Cihho cfrsf? W'zz gvck mci cihho cfrsf!\n",
            "Mci rcb'h ybck kvoh cihho cfrsf wg, Af. Hfogy!\n",
            "W'r gvck mci pih W'a hcc czr; W'a hcc hwfsr; W'a hcc tiqywb' pzwbr.\n",
            "Wt W ksfs hvs aob W kog 5 msofg ouc W'r hoys o TZOAS-HVFCKSF hc hvwg dzoqs!\n",
            "Cihho cfrsf. Kvc hvs vszz mci hvwby mci'fs hozywb' hc?\n",
            "W'js pssb ofcibr, mci ybck? Hvsfs kog o hwas W qcizr gss.\n",
            "Obr W vojs gssb pcmg zwys hvsgs, mcibusf hvob hvsgs, hvswf ofag hcfb cih, hvswf zsug fwddsr ctt.\n",
            "Pih hvsfs wgb'h bchvwb' zwys hvs gwuvh ct ob oadihohsr gdwfwh; hvsfs wg bc dfcghvshwq tcf hvoh.\n",
            "Mci hvwby mci'fs asfszm gsbrwb' hvwg gdzsbrwr tcch-gczrwsf poqy vcas hc Cfsucb kwhv vwg howz pshkssb vwg zsug,\n",
            "pih W gom mci ofs slsqihwb' vwg GCIZ!!\n",
            "Obr kvm?! Psqoigs vs'g bch o Powfr aob!\n",
            "Powfr asb, mo vifh hvwg pcm, mci'fs ucwbu hc ps Powfr Piag, hvs zch ct mo.\n",
            "Obr Voffm, Xwaam, Hfsbh, kvsfsjsf mci ofs cih hvsfs, **** ***, hcc!\n",
            "\n"
          ]
        }
      ],
      "source": [
        "message= '''\n",
        "Outta order? I'll show you outta order!\n",
        "You don't know what outta order is, Mr. Trask!\n",
        "I'd show you but I'm too old; I'm too tired; I'm too fuckin' blind.\n",
        "If I were the man I was 5 years ago I'd take a FLAME-THROWER to this place!\n",
        "Outta order. Who the hell you think you're talkin' to?\n",
        "I've been around, you know? There was a time I could see.\n",
        "And I have seen boys like these, younger than these, their arms torn out, their legs ripped off.\n",
        "But there isn't nothin' like the sight of an amputated spirit; there is no prosthetic for that.\n",
        "You think you're merely sendin' this splendid foot-soldier back home to Oregon with his tail between his legs,\n",
        "but I say you are executin' his SOUL!!\n",
        "And why?! Because he's not a Baird man!\n",
        "Baird men, ya hurt this boy, you're going to be Baird Bums, the lot of ya.\n",
        "And Harry, Jimmy, Trent, wherever you are out there, **** ***, too!\n",
        "'''\n",
        "degree = -12\n",
        "\n",
        "# write your answer below -\n",
        "    \n",
        "print(q15_encrypt(message, degree))"
      ]
    }
  ],
  "metadata": {
    "colab": {
      "provenance": [],
      "toc_visible": true
    },
    "kernelspec": {
      "display_name": ".venv",
      "language": "python",
      "name": "python3"
    },
    "language_info": {
      "codemirror_mode": {
        "name": "ipython",
        "version": 3
      },
      "file_extension": ".py",
      "mimetype": "text/x-python",
      "name": "python",
      "nbconvert_exporter": "python",
      "pygments_lexer": "ipython3",
      "version": "3.12.4"
    }
  },
  "nbformat": 4,
  "nbformat_minor": 0
}
