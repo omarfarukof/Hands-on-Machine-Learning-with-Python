{
  "cells": [
    {
      "cell_type": "markdown",
      "metadata": {},
      "source": [
        "# Course: EEE 4710\n",
        "# Assignment 01\n",
        "---\n",
        "## ID: 200021118\n",
        "## Name: Omar Faruk\n",
        "---"
      ]
    },
    {
      "cell_type": "markdown",
      "metadata": {
        "id": "1YQ-61NFE5w_"
      },
      "source": [
        "# Question: 01"
      ]
    },
    {
      "cell_type": "markdown",
      "metadata": {
        "id": "qxdHQPQfE5xA"
      },
      "source": [
        "A list is provided. Find the 2nd and 8th element from that list."
      ]
    },
    {
      "cell_type": "code",
      "execution_count": 1,
      "metadata": {
        "id": "Lvt6d5D3E5xB",
        "outputId": "11606bfc-3bc8-46ef-d56e-c11fbae3a4e0"
      },
      "outputs": [
        {
          "name": "stdout",
          "output_type": "stream",
          "text": [
            "2nd element: 5\n",
            "8th element: 10\n"
          ]
        }
      ],
      "source": [
        "a=[2,5,3,'h',';',\"k\",7,10,[5,6]]\n",
        "\n",
        "# write your answer below -\n",
        "print(f\"2nd element: {a[1]}\\n8th element: {a[7]}\")"
      ]
    },
    {
      "cell_type": "markdown",
      "metadata": {
        "id": "gOq4EWalE5xC"
      },
      "source": [
        "# Question: 02"
      ]
    },
    {
      "cell_type": "markdown",
      "metadata": {
        "id": "icng71WgE5xD"
      },
      "source": [
        "A string is provided. Find the 1st and last element from that string."
      ]
    },
    {
      "cell_type": "code",
      "execution_count": 2,
      "metadata": {
        "id": "Hb8gxeXcE5xD"
      },
      "outputs": [
        {
          "name": "stdout",
          "output_type": "stream",
          "text": [
            "1st element: c\n",
            "last element: e\n"
          ]
        }
      ],
      "source": [
        "b='coffee'\n",
        "\n",
        "# write your answer below -\n",
        "print(f\"1st element: {b[0]}\\nlast element: {b[-1]}\")\n"
      ]
    },
    {
      "cell_type": "markdown",
      "metadata": {
        "id": "jaVPbMdGE5xD"
      },
      "source": [
        "# Question: 03"
      ]
    },
    {
      "cell_type": "markdown",
      "metadata": {
        "id": "kFsnM6BAE5xD"
      },
      "source": [
        "Given a list, convert it into a numpy array."
      ]
    },
    {
      "cell_type": "code",
      "execution_count": 5,
      "metadata": {
        "id": "SJggdoEuE5xD"
      },
      "outputs": [
        {
          "name": "stdout",
          "output_type": "stream",
          "text": [
            "[ 3  4  0 -4 -2  1  6]\n"
          ]
        }
      ],
      "source": [
        "import numpy as np\n",
        "\n",
        "m=[3,4,0,-4,-2,1,6]\n",
        "\n",
        "# write your answer below -\n",
        "\n",
        "\n",
        "m_array = np.array(m)\n",
        "print(m_array)"
      ]
    },
    {
      "cell_type": "markdown",
      "metadata": {
        "id": "mvteLhpIE5xE"
      },
      "source": [
        "# Question: 04"
      ]
    },
    {
      "cell_type": "markdown",
      "metadata": {
        "id": "eNgqwK5lE5xE"
      },
      "source": [
        "Given a list of integers, find the negative elements from the list."
      ]
    },
    {
      "cell_type": "code",
      "execution_count": 6,
      "metadata": {
        "id": "Cc6jcyZBE5xE"
      },
      "outputs": [
        {
          "name": "stdout",
          "output_type": "stream",
          "text": [
            "Negative elements: [-3, -4, -9]\n"
          ]
        }
      ],
      "source": [
        "p=[-3,7,-4,0,1,6,-9]\n",
        "\n",
        "# write your answer below -\n",
        "\n",
        "p_neg = [i for i in p if i < 0]\n",
        "print(f\"Negative elements: {p_neg}\")"
      ]
    },
    {
      "cell_type": "markdown",
      "metadata": {
        "id": "c_uZN0X_E5xE"
      },
      "source": [
        "# Question: 05"
      ]
    },
    {
      "cell_type": "markdown",
      "metadata": {},
      "source": [
        "A list x is provided. Extract 25 and 'dec' from it."
      ]
    },
    {
      "cell_type": "code",
      "execution_count": 10,
      "metadata": {
        "id": "6eEOQTZPE5xG"
      },
      "outputs": [
        {
          "name": "stdout",
          "output_type": "stream",
          "text": [
            "Extract 25: 25\n",
            "Extract 'dec': dec\n"
          ]
        }
      ],
      "source": [
        "x=['Nov', (5,15,25), ['p','q',[100,1000,['dec','jan']]],'apex']\n",
        "\n",
        "# write your answer below -\n",
        "print(f\"Extract 25: {x[1][2]}\")\n",
        "print(f\"Extract 'dec': {x[2][2][2][0]}\")"
      ]
    },
    {
      "cell_type": "markdown",
      "metadata": {
        "id": "2nTZu207Fa6x"
      },
      "source": [
        "# Question: 06"
      ]
    },
    {
      "cell_type": "markdown",
      "metadata": {
        "id": "Ho2Cu8oDFlZI"
      },
      "source": [
        "A list is provided.\n",
        "1. First invert it.\n",
        "2. Then join it to the original list.\n",
        "3. Create a replica of it and add it to the end.\n",
        "\n",
        "Test Case:\n",
        "\n",
        "a= [3,4,10]\n",
        "\n",
        "1=> [10,4,3]\n",
        "\n",
        "2=> [3,4,10,10,4,3]\n",
        "\n",
        "3=> [3,4,10,10,4,3,3,4,10,10,4,3]"
      ]
    },
    {
      "cell_type": "code",
      "execution_count": 13,
      "metadata": {
        "id": "WAQym3zIFd-z"
      },
      "outputs": [
        {
          "name": "stdout",
          "output_type": "stream",
          "text": [
            "[10, 4, 3]\n",
            "[3, 4, 10, 10, 4, 3]\n",
            "[3, 4, 10, 10, 4, 3, 3, 4, 10, 10, 4, 3]\n"
          ]
        }
      ],
      "source": [
        "# write your code here\n",
        "a = [3,4,10]\n",
        "\n",
        "# reverse a\n",
        "a_invert = a[::-1]\n",
        "print(a_invert)\n",
        "\n",
        "# add a and a_invert\n",
        "a_join = a + a_invert\n",
        "print(a_join)\n",
        "\n",
        "# Replecate a_join and join them\n",
        "a_join_replica = a_join * 2\n",
        "print(a_join_replica)"
      ]
    },
    {
      "cell_type": "markdown",
      "metadata": {
        "id": "ypTEs1AvGdHw"
      },
      "source": [
        "# Question: 07"
      ]
    },
    {
      "cell_type": "markdown",
      "metadata": {
        "id": "1q9IKmoMGgGD"
      },
      "source": [
        "The list 'movie' contains names of some movies. The list 'score' contains rating of those movies. Sort the score list in a descending manner. Then sort the movie list according to their ratings."
      ]
    },
    {
      "cell_type": "code",
      "execution_count": 30,
      "metadata": {
        "id": "YyTWRYNNG5gu"
      },
      "outputs": [
        {
          "name": "stdout",
          "output_type": "stream",
          "text": [
            "Movie = ('Lost in translation', 'Zack Snyders Justice League', 'Avatar', 'Coherence', 'Enemy', 'Avengers')\n",
            "Score = (10, 10, 9, 8.5, 8, 7)\n"
          ]
        }
      ],
      "source": [
        "movie=['Avatar','Lost in translation','Enemy','Coherence','Avengers', 'Zack Snyders Justice League']\n",
        "score= [9,10,8,8.5,7,10]\n",
        "# write your code here\n",
        "\n",
        "movie_score = [i for i in zip(movie, score)]\n",
        "movie_score.sort(key=lambda pair: pair[1] , reverse=True)\n",
        "movie , score = zip(*movie_score)\n",
        "\n",
        "print(f\"Movie = {movie}\")\n",
        "print(f\"Score = {score}\")"
      ]
    },
    {
      "cell_type": "markdown",
      "metadata": {
        "id": "kaVRlYYXHJg4"
      },
      "source": [
        "# Question: 08"
      ]
    },
    {
      "cell_type": "markdown",
      "metadata": {
        "id": "127jId_WHYpX"
      },
      "source": [
        "Given a list of integers, for each of the elements:\n",
        "* if an item is divisible by 2, square it\n",
        "* if it is divisible by 3, cube it\n",
        "* otherwise, remove the item from the list"
      ]
    },
    {
      "cell_type": "code",
      "execution_count": 33,
      "metadata": {
        "id": "qy0C_eAFHj6S"
      },
      "outputs": [
        {
          "name": "stdout",
          "output_type": "stream",
          "text": [
            "M = [27, 16, 0, 16, 4, 36]\n"
          ]
        }
      ],
      "source": [
        "m=[3,4,0,-4,-2,1,6]\n",
        "\n",
        "# write your answer below -\n",
        "M = []\n",
        "for i in m:\n",
        "    if i%2 == 0:\n",
        "        M.append(i**2)\n",
        "    elif i%3 == 0:\n",
        "        M.append(i**3)\n",
        "\n",
        "print(f\"M = {M}\")"
      ]
    },
    {
      "cell_type": "markdown",
      "metadata": {
        "id": "4bx30BycHmtj"
      },
      "source": [
        "# Question: 09"
      ]
    },
    {
      "cell_type": "markdown",
      "metadata": {
        "id": "ksk0GejwHrfB"
      },
      "source": [
        "Write a function that takes a list as an input and returns the top 3 elements from the list. The list may contain strings (ignore them)."
      ]
    },
    {
      "cell_type": "code",
      "execution_count": 34,
      "metadata": {
        "id": "R-oLvN7_Hq_R"
      },
      "outputs": [],
      "source": [
        "p=[-3,7,-4,0,1,6,-9, 'apple', 'mango', [28732, 23, 24556]]\n",
        "q= [ 29, 22, 24, 5]\n",
        "# write your function here, then call it in the next cell for bath cases\n",
        "def top_3(List):\n",
        "    if len(List) < 3:\n",
        "        print(\"List has less than 3 elements\")\n",
        "        return -1\n",
        "    else:\n",
        "        return List[:3]"
      ]
    },
    {
      "cell_type": "code",
      "execution_count": 35,
      "metadata": {},
      "outputs": [
        {
          "data": {
            "text/plain": [
              "[-3, 7, -4]"
            ]
          },
          "execution_count": 35,
          "metadata": {},
          "output_type": "execute_result"
        }
      ],
      "source": [
        "top_3(p)"
      ]
    },
    {
      "cell_type": "code",
      "execution_count": 36,
      "metadata": {},
      "outputs": [
        {
          "data": {
            "text/plain": [
              "[29, 22, 24]"
            ]
          },
          "execution_count": 36,
          "metadata": {},
          "output_type": "execute_result"
        }
      ],
      "source": [
        "top_3(q)"
      ]
    },
    {
      "cell_type": "markdown",
      "metadata": {
        "id": "9LJnV3Z2IWVY"
      },
      "source": [
        "# Question: 10"
      ]
    },
    {
      "cell_type": "markdown",
      "metadata": {
        "id": "VVDuI87QIYKc"
      },
      "source": [
        "A list is provided. Remove any item which is not a string.\n",
        "\n",
        "Hint: isinstance"
      ]
    },
    {
      "cell_type": "code",
      "execution_count": 46,
      "metadata": {
        "id": "fK2ORnwNIZkf"
      },
      "outputs": [
        {
          "data": {
            "text/plain": [
              "['Nov', 'apex']"
            ]
          },
          "execution_count": 46,
          "metadata": {},
          "output_type": "execute_result"
        }
      ],
      "source": [
        "x=['Nov', (5,15,25), ['p','q',[100,1000,['dec','jan']]],'apex']\n",
        "\n",
        "# write your answer below -\n",
        "x = [i for i in x if isinstance(i , str)]\n",
        "x"
      ]
    },
    {
      "cell_type": "markdown",
      "metadata": {
        "id": "Qk_K3xlyIsjs"
      },
      "source": [
        "# Question: 11"
      ]
    },
    {
      "cell_type": "markdown",
      "metadata": {
        "id": "NDXrZhuFIvKM"
      },
      "source": [
        "Write a function that takes a list of years and returns a logical array corresponding to the original list based on whether each item(year) in the list is a leap year or not."
      ]
    },
    {
      "cell_type": "code",
      "execution_count": 48,
      "metadata": {
        "id": "D_2zzjZaIu1M"
      },
      "outputs": [],
      "source": [
        "def find_leap_year(year_list):\n",
        "  isleap = []\n",
        "  for year in year_list:\n",
        "    if (year % 4 == 0 and year % 100 != 0) or (year % 400 == 0):\n",
        "      isleap.append(True)\n",
        "    else:\n",
        "      isleap.append(False)\n",
        "  return isleap"
      ]
    },
    {
      "cell_type": "code",
      "execution_count": 49,
      "metadata": {
        "id": "eOOaXtCpI79D"
      },
      "outputs": [
        {
          "data": {
            "text/plain": [
              "[True, False, False, True, False, False, True, True, False, True, True]"
            ]
          },
          "execution_count": 49,
          "metadata": {},
          "output_type": "execute_result"
        }
      ],
      "source": [
        "year=[2020,2015,2014,2000,1900,1950,1944,1896,1800,1820,1600]\n",
        "find_leap_year(year)"
      ]
    },
    {
      "cell_type": "markdown",
      "metadata": {
        "id": "GuRQZgH4JInE"
      },
      "source": [
        "# Question: 12"
      ]
    },
    {
      "cell_type": "markdown",
      "metadata": {
        "id": "F64brMJ3JL31"
      },
      "source": [
        "Write a function that takes two lists. First calculate the pairwise product. Then find the average value and summation of those products. Return these two values from the function."
      ]
    },
    {
      "cell_type": "code",
      "execution_count": 51,
      "metadata": {
        "id": "00Bwl3l9JTKl"
      },
      "outputs": [],
      "source": [
        "# write your function here\n",
        "def pair_product(x_list,y_list):\n",
        "    xy = []\n",
        "    for x , y in zip(x_list,y_list):\n",
        "        xy.append(x*y)\n",
        "    \n",
        "    sum_xy = sum(xy)\n",
        "    avg_xy = sum_xy/len(xy)\n",
        "\n",
        "    return avg_xy , sum_xy\n",
        "    "
      ]
    },
    {
      "cell_type": "code",
      "execution_count": 52,
      "metadata": {
        "id": "po474x9UJWHT"
      },
      "outputs": [
        {
          "name": "stdout",
          "output_type": "stream",
          "text": [
            "Sum = 19.333333333333332\n",
            "Average = 116\n"
          ]
        }
      ],
      "source": [
        "x1=[3,7,5,1,8,10]\n",
        "x2=[10,2,0,4,1,6]\n",
        "\n",
        "sum , avg = pair_product(x1,x2)\n",
        "print(f\"Sum = {sum}\")\n",
        "print(f\"Average = {avg}\")"
      ]
    }
  ],
  "metadata": {
    "colab": {
      "provenance": [],
      "toc_visible": true
    },
    "kernelspec": {
      "display_name": "Python 3",
      "language": "python",
      "name": "python3"
    },
    "language_info": {
      "codemirror_mode": {
        "name": "ipython",
        "version": 3
      },
      "file_extension": ".py",
      "mimetype": "text/x-python",
      "name": "python",
      "nbconvert_exporter": "python",
      "pygments_lexer": "ipython3",
      "version": "3.11.3"
    }
  },
  "nbformat": 4,
  "nbformat_minor": 0
}
